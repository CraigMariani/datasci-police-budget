{
 "cells": [
  {
   "cell_type": "markdown",
   "metadata": {},
   "source": [
    "### Data Visualization and Exploration of the budget in Oakland, California\n",
    "\n",
    "##### This data was aggregated from a larger data set in which each subdepartment was summed into the parent department. "
   ]
  },
  {
   "cell_type": "code",
   "execution_count": 128,
   "metadata": {},
   "outputs": [],
   "source": [
    "import pandas as pd\n",
    "import matplotlib.pyplot as plt"
   ]
  },
  {
   "cell_type": "code",
   "execution_count": 129,
   "metadata": {},
   "outputs": [],
   "source": [
    "oakland = pd.read_csv('oakland_aggregated_data.csv')"
   ]
  },
  {
   "cell_type": "code",
   "execution_count": 130,
   "metadata": {},
   "outputs": [
    {
     "data": {
      "text/html": [
       "<div>\n",
       "<style scoped>\n",
       "    .dataframe tbody tr th:only-of-type {\n",
       "        vertical-align: middle;\n",
       "    }\n",
       "\n",
       "    .dataframe tbody tr th {\n",
       "        vertical-align: top;\n",
       "    }\n",
       "\n",
       "    .dataframe thead th {\n",
       "        text-align: right;\n",
       "    }\n",
       "</style>\n",
       "<table border=\"1\" class=\"dataframe\">\n",
       "  <thead>\n",
       "    <tr style=\"text-align: right;\">\n",
       "      <th></th>\n",
       "      <th>Department Alias</th>\n",
       "      <th>FY18-19 \\nMidcycle Adopted Total</th>\n",
       "      <th>FY19-20 \\nBiennial Working Total</th>\n",
       "      <th>FY20-21 \\nBiennial Working Total</th>\n",
       "    </tr>\n",
       "  </thead>\n",
       "  <tbody>\n",
       "    <tr>\n",
       "      <th>0</th>\n",
       "      <td>Capital Improvement Projects</td>\n",
       "      <td>66201524.0</td>\n",
       "      <td>102439500.0</td>\n",
       "      <td>92860926.0</td>\n",
       "    </tr>\n",
       "    <tr>\n",
       "      <th>1</th>\n",
       "      <td>City Administrator</td>\n",
       "      <td>18912172.0</td>\n",
       "      <td>23722653.0</td>\n",
       "      <td>25178890.0</td>\n",
       "    </tr>\n",
       "    <tr>\n",
       "      <th>2</th>\n",
       "      <td>City Attorney</td>\n",
       "      <td>18615221.0</td>\n",
       "      <td>20216139.0</td>\n",
       "      <td>21696825.0</td>\n",
       "    </tr>\n",
       "    <tr>\n",
       "      <th>3</th>\n",
       "      <td>City Auditor</td>\n",
       "      <td>2064905.0</td>\n",
       "      <td>2309876.0</td>\n",
       "      <td>2426363.0</td>\n",
       "    </tr>\n",
       "    <tr>\n",
       "      <th>4</th>\n",
       "      <td>City Clerk</td>\n",
       "      <td>7259799.0</td>\n",
       "      <td>7523024.0</td>\n",
       "      <td>7386812.0</td>\n",
       "    </tr>\n",
       "    <tr>\n",
       "      <th>5</th>\n",
       "      <td>City Council</td>\n",
       "      <td>5522030.0</td>\n",
       "      <td>5987149.0</td>\n",
       "      <td>6121027.0</td>\n",
       "    </tr>\n",
       "    <tr>\n",
       "      <th>6</th>\n",
       "      <td>Department of Violence Prevention</td>\n",
       "      <td>1129204.0</td>\n",
       "      <td>1150190.0</td>\n",
       "      <td>1177495.0</td>\n",
       "    </tr>\n",
       "    <tr>\n",
       "      <th>7</th>\n",
       "      <td>Economic &amp; Workforce Development</td>\n",
       "      <td>43306380.0</td>\n",
       "      <td>27494517.0</td>\n",
       "      <td>26641463.0</td>\n",
       "    </tr>\n",
       "    <tr>\n",
       "      <th>8</th>\n",
       "      <td>Finance Department</td>\n",
       "      <td>777351557.0</td>\n",
       "      <td>842337216.0</td>\n",
       "      <td>875230853.0</td>\n",
       "    </tr>\n",
       "    <tr>\n",
       "      <th>9</th>\n",
       "      <td>Fire Department</td>\n",
       "      <td>169822143.0</td>\n",
       "      <td>197596810.0</td>\n",
       "      <td>203370848.0</td>\n",
       "    </tr>\n",
       "    <tr>\n",
       "      <th>10</th>\n",
       "      <td>Housing &amp; Community Development</td>\n",
       "      <td>88120000.0</td>\n",
       "      <td>143679231.0</td>\n",
       "      <td>102884379.0</td>\n",
       "    </tr>\n",
       "    <tr>\n",
       "      <th>11</th>\n",
       "      <td>Human Resources Management Department</td>\n",
       "      <td>9554327.0</td>\n",
       "      <td>10271546.0</td>\n",
       "      <td>10575740.0</td>\n",
       "    </tr>\n",
       "    <tr>\n",
       "      <th>12</th>\n",
       "      <td>Human Services</td>\n",
       "      <td>166739926.0</td>\n",
       "      <td>177308096.0</td>\n",
       "      <td>185810562.0</td>\n",
       "    </tr>\n",
       "    <tr>\n",
       "      <th>13</th>\n",
       "      <td>Information Technology</td>\n",
       "      <td>56960451.0</td>\n",
       "      <td>65693828.0</td>\n",
       "      <td>63258832.0</td>\n",
       "    </tr>\n",
       "    <tr>\n",
       "      <th>14</th>\n",
       "      <td>Mayor</td>\n",
       "      <td>3647220.0</td>\n",
       "      <td>4239274.0</td>\n",
       "      <td>4374719.0</td>\n",
       "    </tr>\n",
       "    <tr>\n",
       "      <th>15</th>\n",
       "      <td>Non</td>\n",
       "      <td>562308045.0</td>\n",
       "      <td>580441236.0</td>\n",
       "      <td>566220424.0</td>\n",
       "    </tr>\n",
       "    <tr>\n",
       "      <th>16</th>\n",
       "      <td>Oakland Parks, Recreation &amp; Youth Development</td>\n",
       "      <td>39676620.0</td>\n",
       "      <td>48177954.0</td>\n",
       "      <td>53102287.0</td>\n",
       "    </tr>\n",
       "    <tr>\n",
       "      <th>17</th>\n",
       "      <td>Oakland Public Library</td>\n",
       "      <td>69418272.0</td>\n",
       "      <td>71884210.0</td>\n",
       "      <td>74844906.0</td>\n",
       "    </tr>\n",
       "    <tr>\n",
       "      <th>18</th>\n",
       "      <td>Oakland Public Works</td>\n",
       "      <td>325998979.0</td>\n",
       "      <td>357232884.0</td>\n",
       "      <td>352288396.0</td>\n",
       "    </tr>\n",
       "    <tr>\n",
       "      <th>19</th>\n",
       "      <td>Planning &amp; Building</td>\n",
       "      <td>76960700.0</td>\n",
       "      <td>96735845.0</td>\n",
       "      <td>96668631.0</td>\n",
       "    </tr>\n",
       "    <tr>\n",
       "      <th>20</th>\n",
       "      <td>Police Commission</td>\n",
       "      <td>2963773.0</td>\n",
       "      <td>4101998.0</td>\n",
       "      <td>4320062.0</td>\n",
       "    </tr>\n",
       "    <tr>\n",
       "      <th>21</th>\n",
       "      <td>Police Department</td>\n",
       "      <td>300247481.0</td>\n",
       "      <td>328154169.0</td>\n",
       "      <td>339597289.0</td>\n",
       "    </tr>\n",
       "    <tr>\n",
       "      <th>22</th>\n",
       "      <td>Public Ethics Commission</td>\n",
       "      <td>1031110.0</td>\n",
       "      <td>1160831.0</td>\n",
       "      <td>1300237.0</td>\n",
       "    </tr>\n",
       "    <tr>\n",
       "      <th>23</th>\n",
       "      <td>Race &amp; Equity</td>\n",
       "      <td>562175.0</td>\n",
       "      <td>737915.0</td>\n",
       "      <td>759313.0</td>\n",
       "    </tr>\n",
       "    <tr>\n",
       "      <th>24</th>\n",
       "      <td>Transportation</td>\n",
       "      <td>153923580.0</td>\n",
       "      <td>191849211.0</td>\n",
       "      <td>186006921.0</td>\n",
       "    </tr>\n",
       "  </tbody>\n",
       "</table>\n",
       "</div>"
      ],
      "text/plain": [
       "                                 Department Alias  \\\n",
       "0                    Capital Improvement Projects   \n",
       "1                              City Administrator   \n",
       "2                                   City Attorney   \n",
       "3                                    City Auditor   \n",
       "4                                      City Clerk   \n",
       "5                                    City Council   \n",
       "6               Department of Violence Prevention   \n",
       "7                Economic & Workforce Development   \n",
       "8                              Finance Department   \n",
       "9                                 Fire Department   \n",
       "10                Housing & Community Development   \n",
       "11          Human Resources Management Department   \n",
       "12                                 Human Services   \n",
       "13                         Information Technology   \n",
       "14                                          Mayor   \n",
       "15                                            Non   \n",
       "16  Oakland Parks, Recreation & Youth Development   \n",
       "17                         Oakland Public Library   \n",
       "18                           Oakland Public Works   \n",
       "19                            Planning & Building   \n",
       "20                              Police Commission   \n",
       "21                              Police Department   \n",
       "22                       Public Ethics Commission   \n",
       "23                                  Race & Equity   \n",
       "24                                 Transportation   \n",
       "\n",
       "    FY18-19 \\nMidcycle Adopted Total  FY19-20 \\nBiennial Working Total  \\\n",
       "0                         66201524.0                       102439500.0   \n",
       "1                         18912172.0                        23722653.0   \n",
       "2                         18615221.0                        20216139.0   \n",
       "3                          2064905.0                         2309876.0   \n",
       "4                          7259799.0                         7523024.0   \n",
       "5                          5522030.0                         5987149.0   \n",
       "6                          1129204.0                         1150190.0   \n",
       "7                         43306380.0                        27494517.0   \n",
       "8                        777351557.0                       842337216.0   \n",
       "9                        169822143.0                       197596810.0   \n",
       "10                        88120000.0                       143679231.0   \n",
       "11                         9554327.0                        10271546.0   \n",
       "12                       166739926.0                       177308096.0   \n",
       "13                        56960451.0                        65693828.0   \n",
       "14                         3647220.0                         4239274.0   \n",
       "15                       562308045.0                       580441236.0   \n",
       "16                        39676620.0                        48177954.0   \n",
       "17                        69418272.0                        71884210.0   \n",
       "18                       325998979.0                       357232884.0   \n",
       "19                        76960700.0                        96735845.0   \n",
       "20                         2963773.0                         4101998.0   \n",
       "21                       300247481.0                       328154169.0   \n",
       "22                         1031110.0                         1160831.0   \n",
       "23                          562175.0                          737915.0   \n",
       "24                       153923580.0                       191849211.0   \n",
       "\n",
       "    FY20-21 \\nBiennial Working Total  \n",
       "0                         92860926.0  \n",
       "1                         25178890.0  \n",
       "2                         21696825.0  \n",
       "3                          2426363.0  \n",
       "4                          7386812.0  \n",
       "5                          6121027.0  \n",
       "6                          1177495.0  \n",
       "7                         26641463.0  \n",
       "8                        875230853.0  \n",
       "9                        203370848.0  \n",
       "10                       102884379.0  \n",
       "11                        10575740.0  \n",
       "12                       185810562.0  \n",
       "13                        63258832.0  \n",
       "14                         4374719.0  \n",
       "15                       566220424.0  \n",
       "16                        53102287.0  \n",
       "17                        74844906.0  \n",
       "18                       352288396.0  \n",
       "19                        96668631.0  \n",
       "20                         4320062.0  \n",
       "21                       339597289.0  \n",
       "22                         1300237.0  \n",
       "23                          759313.0  \n",
       "24                       186006921.0  "
      ]
     },
     "execution_count": 130,
     "metadata": {},
     "output_type": "execute_result"
    }
   ],
   "source": [
    "oakland"
   ]
  },
  {
   "cell_type": "code",
   "execution_count": 131,
   "metadata": {},
   "outputs": [
    {
     "data": {
      "text/plain": [
       "3304104200.0"
      ]
     },
     "execution_count": 131,
     "metadata": {},
     "output_type": "execute_result"
    }
   ],
   "source": [
    "oakland['FY20-21 \\nBiennial Working Total'].sum()"
   ]
  },
  {
   "cell_type": "code",
   "execution_count": 132,
   "metadata": {},
   "outputs": [
    {
     "data": {
      "text/plain": [
       "Department Alias                    Police CommissionPolice Department\n",
       "FY18-19 \\nMidcycle Adopted Total                           3.03211e+08\n",
       "FY19-20 \\nBiennial Working Total                           3.32256e+08\n",
       "FY20-21 \\nBiennial Working Total                           3.43917e+08\n",
       "dtype: object"
      ]
     },
     "execution_count": 132,
     "metadata": {},
     "output_type": "execute_result"
    }
   ],
   "source": [
    "police = oakland[20:22].sum()\n",
    "\n",
    "police"
   ]
  },
  {
   "cell_type": "code",
   "execution_count": 133,
   "metadata": {},
   "outputs": [
    {
     "data": {
      "text/plain": [
       "343917351.0"
      ]
     },
     "execution_count": 133,
     "metadata": {},
     "output_type": "execute_result"
    }
   ],
   "source": [
    "FY1819 = police[1]\n",
    "FY1920 = police[2]\n",
    "FY2021 = police[3]\n",
    "\n",
    "\n",
    "FY2021"
   ]
  },
  {
   "cell_type": "code",
   "execution_count": 134,
   "metadata": {},
   "outputs": [],
   "source": [
    "percent_1819 = (FY1819 / oakland['FY18-19 \\nMidcycle Adopted Total'].sum()) * 100\n",
    "percent_1920 = (FY1920 / oakland['FY19-20 \\nBiennial Working Total'].sum()) * 100\n",
    "percent_2021 = (FY2021 / oakland['FY20-21 \\nBiennial Working Total'].sum()) * 100"
   ]
  },
  {
   "cell_type": "code",
   "execution_count": 135,
   "metadata": {},
   "outputs": [
    {
     "data": {
      "text/plain": [
       "10.214988369525322"
      ]
     },
     "execution_count": 135,
     "metadata": {},
     "output_type": "execute_result"
    }
   ],
   "source": [
    "percent_1819"
   ]
  },
  {
   "cell_type": "code",
   "execution_count": 136,
   "metadata": {},
   "outputs": [
    {
     "data": {
      "text/plain": [
       "10.030540483170821"
      ]
     },
     "execution_count": 136,
     "metadata": {},
     "output_type": "execute_result"
    }
   ],
   "source": [
    "percent_1920"
   ]
  },
  {
   "cell_type": "code",
   "execution_count": 137,
   "metadata": {},
   "outputs": [
    {
     "data": {
      "text/plain": [
       "10.408792525368904"
      ]
     },
     "execution_count": 137,
     "metadata": {},
     "output_type": "execute_result"
    }
   ],
   "source": [
    "percent_2021"
   ]
  },
  {
   "cell_type": "code",
   "execution_count": 138,
   "metadata": {},
   "outputs": [],
   "source": [
    "import matplotlib.pyplot as plt "
   ]
  },
  {
   "cell_type": "code",
   "execution_count": 139,
   "metadata": {},
   "outputs": [
    {
     "data": {
      "text/plain": [
       "<matplotlib.axes._subplots.AxesSubplot at 0x18eda550>"
      ]
     },
     "execution_count": 139,
     "metadata": {},
     "output_type": "execute_result"
    },
    {
     "data": {
      "image/png": "[encoded data removed]",
      "text/plain": [
       "<Figure size 720x1440 with 1 Axes>"
      ]
     },
     "metadata": {
      "needs_background": "light"
     },
     "output_type": "display_data"
    }
   ],
   "source": [
    "\n",
    "\n",
    "oakland.plot(x='Department Alias', \n",
    "             y=['FY18-19 \\nMidcycle Adopted Total', \n",
    "                'FY19-20 \\nBiennial Working Total', \n",
    "                'FY20-21 \\nBiennial Working Total'], \n",
    "             kind='bar',\n",
    "            figsize=(10,20))"
   ]
  },
  {
   "cell_type": "code",
   "execution_count": 140,
   "metadata": {},
   "outputs": [],
   "source": [
    "subset = oakland[(oakland['Department Alias'] == 'Department of Violence Prevention') | \n",
    "        (oakland['Department Alias'] == 'Police Commission') |\n",
    "        (oakland['Department Alias'] == 'Police Department')] "
   ]
  },
  {
   "cell_type": "markdown",
   "metadata": {},
   "source": [
    "#### Subset the data into Department of Violence and the Police Department/Police Commision in order to compare allocation of resources"
   ]
  },
  {
   "cell_type": "code",
   "execution_count": 141,
   "metadata": {},
   "outputs": [
    {
     "data": {
      "text/html": [
       "<div>\n",
       "<style scoped>\n",
       "    .dataframe tbody tr th:only-of-type {\n",
       "        vertical-align: middle;\n",
       "    }\n",
       "\n",
       "    .dataframe tbody tr th {\n",
       "        vertical-align: top;\n",
       "    }\n",
       "\n",
       "    .dataframe thead th {\n",
       "        text-align: right;\n",
       "    }\n",
       "</style>\n",
       "<table border=\"1\" class=\"dataframe\">\n",
       "  <thead>\n",
       "    <tr style=\"text-align: right;\">\n",
       "      <th></th>\n",
       "      <th>Department Alias</th>\n",
       "      <th>FY18-19 \\nMidcycle Adopted Total</th>\n",
       "      <th>FY19-20 \\nBiennial Working Total</th>\n",
       "      <th>FY20-21 \\nBiennial Working Total</th>\n",
       "    </tr>\n",
       "  </thead>\n",
       "  <tbody>\n",
       "    <tr>\n",
       "      <th>6</th>\n",
       "      <td>Department of Violence Prevention</td>\n",
       "      <td>1129204.0</td>\n",
       "      <td>1150190.0</td>\n",
       "      <td>1177495.0</td>\n",
       "    </tr>\n",
       "    <tr>\n",
       "      <th>20</th>\n",
       "      <td>Police Commission</td>\n",
       "      <td>2963773.0</td>\n",
       "      <td>4101998.0</td>\n",
       "      <td>4320062.0</td>\n",
       "    </tr>\n",
       "    <tr>\n",
       "      <th>21</th>\n",
       "      <td>Police Department</td>\n",
       "      <td>300247481.0</td>\n",
       "      <td>328154169.0</td>\n",
       "      <td>339597289.0</td>\n",
       "    </tr>\n",
       "  </tbody>\n",
       "</table>\n",
       "</div>"
      ],
      "text/plain": [
       "                     Department Alias  FY18-19 \\nMidcycle Adopted Total  \\\n",
       "6   Department of Violence Prevention                         1129204.0   \n",
       "20                  Police Commission                         2963773.0   \n",
       "21                  Police Department                       300247481.0   \n",
       "\n",
       "    FY19-20 \\nBiennial Working Total  FY20-21 \\nBiennial Working Total  \n",
       "6                          1150190.0                         1177495.0  \n",
       "20                         4101998.0                         4320062.0  \n",
       "21                       328154169.0                       339597289.0  "
      ]
     },
     "execution_count": 141,
     "metadata": {},
     "output_type": "execute_result"
    }
   ],
   "source": [
    "subset"
   ]
  },
  {
   "cell_type": "markdown",
   "metadata": {},
   "source": [
    "### Out of these three sectors the Police Department has much more funding"
   ]
  },
  {
   "cell_type": "code",
   "execution_count": 143,
   "metadata": {
    "scrolled": true
   },
   "outputs": [
    {
     "data": {
      "image/png": "[encoded data removed]",
      "text/plain": [
       "<Figure size 576x576 with 1 Axes>"
      ]
     },
     "metadata": {
      "needs_background": "light"
     },
     "output_type": "display_data"
    }
   ],
   "source": [
    "fig, ax = plt.subplots(1, 1, figsize=(2, 2))\n",
    "\n",
    "subset.plot(x='Department Alias', \n",
    "             y=['FY18-19 \\nMidcycle Adopted Total', \n",
    "                'FY19-20 \\nBiennial Working Total', \n",
    "                'FY20-21 \\nBiennial Working Total'], \n",
    "             kind='bar',\n",
    "            figsize=(8,8),\n",
    "           ylim=(100,400000000),\n",
    "           rot=True,\n",
    "            ax=ax,\n",
    "           title='Comparing Police with Violence Prevention')\n",
    "plt.ticklabel_format(style='plain', axis='y')\n",
    "plt.show()"
   ]
  }
 ],
 "metadata": {
  "kernelspec": {
   "display_name": "Python 3",
   "language": "python",
   "name": "python3"
  },
  "language_info": {
   "codemirror_mode": {
    "name": "ipython",
    "version": 3
   },
   "file_extension": ".py",
   "mimetype": "text/x-python",
   "name": "python",
   "nbconvert_exporter": "python",
   "pygments_lexer": "ipython3",
   "version": "3.8.2"
  }
 },
 "nbformat": 4,
 "nbformat_minor": 4
}
